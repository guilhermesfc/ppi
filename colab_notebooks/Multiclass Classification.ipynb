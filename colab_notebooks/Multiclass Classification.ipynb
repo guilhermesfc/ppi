{
 "cells": [
  {
   "cell_type": "code",
   "execution_count": null,
   "metadata": {
    "id": "tz1hD-MW-wd6"
   },
   "outputs": [],
   "source": [
    "import os, pathlib\n",
    "import tensorflow as tf\n",
    "from tensorflow import keras\n",
    "import numpy as np\n",
    "import matplotlib.pyplot as plt\n",
    "from sklearn.metrics import confusion_matrix, ConfusionMatrixDisplay"
   ]
  },
  {
   "cell_type": "code",
   "execution_count": null,
   "metadata": {
    "colab": {
     "base_uri": "https://localhost:8080/"
    },
    "id": "c3CC3IDQ_QT5",
    "executionInfo": {
     "status": "ok",
     "timestamp": 1640879282353,
     "user_tz": 0,
     "elapsed": 15513,
     "user": {
      "displayName": "Guilherme Costa",
      "photoUrl": "https://lh3.googleusercontent.com/a/default-user=s64",
      "userId": "16574801687137273341"
     }
    },
    "outputId": "f9f8634a-5bdf-4ce9-d374-3454ee8e17f6"
   },
   "outputs": [
    {
     "output_type": "stream",
     "name": "stdout",
     "text": [
      "Mounted at /content/drive\n"
     ]
    }
   ],
   "source": [
    "from google.colab import drive\n",
    "\n",
    "drive.mount(\"/content/drive\", force_remount=True)"
   ]
  },
  {
   "cell_type": "code",
   "execution_count": null,
   "metadata": {
    "id": "NS8K-yRKDKW1",
    "colab": {
     "base_uri": "https://localhost:8080/"
    },
    "executionInfo": {
     "status": "ok",
     "timestamp": 1639757785246,
     "user_tz": 0,
     "elapsed": 573,
     "user": {
      "displayName": "Guilherme Costa",
      "photoUrl": "https://lh3.googleusercontent.com/a/default-user=s64",
      "userId": "16574801687137273341"
     }
    },
    "outputId": "0e56ac62-09ed-4c16-bd13-ca99b0875f24"
   },
   "outputs": [
    {
     "output_type": "stream",
     "name": "stdout",
     "text": [
      "Found 3766 files belonging to 9 classes.\n",
      "Found 450 files belonging to 9 classes.\n"
     ]
    }
   ],
   "source": [
    "# Set seeds\n",
    "np.random.seed(1)\n",
    "tf.random.set_seed(1)\n",
    "\n",
    "# Define parameters\n",
    "batch_size = 32\n",
    "height = 400\n",
    "width = 400\n",
    "\n",
    "init_train_ds = keras.preprocessing.image_dataset_from_directory(\n",
    "    \"drive/My Drive/CLASSIFY_BALANCED_VAL/TRAIN\",\n",
    "    batch_size=batch_size,\n",
    "    image_size=(1000, 1000),\n",
    "    label_mode=\"int\",\n",
    "    crop_to_aspect_ratio=True,\n",
    ")\n",
    "init_val_ds = keras.preprocessing.image_dataset_from_directory(\n",
    "    \"drive/My Drive/CLASSIFY_BALANCED_VAL/VAL\",\n",
    "    batch_size=batch_size,\n",
    "    image_size=(1000, 1000),\n",
    "    label_mode=\"int\",\n",
    "    crop_to_aspect_ratio=True,\n",
    ")\n",
    "\n",
    "# Random crop\n",
    "random_crop = keras.Sequential([keras.layers.RandomCrop(height, width, seed=1)])\n",
    "train_ds = init_train_ds.map(lambda x, y: (random_crop(x), y))\n",
    "# Center crop\n",
    "center_crop = keras.Sequential([keras.layers.CenterCrop(height, width)])\n",
    "val_ds = init_val_ds.map(lambda x, y: (center_crop(x), y))\n",
    "\n",
    "\n",
    "AUTOTUNE = tf.data.AUTOTUNE\n",
    "train_ds = train_ds.cache().shuffle(1000).prefetch(buffer_size=AUTOTUNE)\n",
    "val_ds = val_ds.cache().prefetch(buffer_size=AUTOTUNE)"
   ]
  },
  {
   "cell_type": "code",
   "execution_count": null,
   "metadata": {
    "id": "WX_prsJiK3cA"
   },
   "outputs": [],
   "source": [
    "base_model = keras.applications.Xception(\n",
    "    include_top=False, weights=\"imagenet\", input_shape=(height, width, 3)\n",
    ")\n",
    "# Freeze the base_model\n",
    "base_model.trainable = False\n",
    "\n",
    "# Create new model on top\n",
    "inputs = keras.Input(shape=(height, width, 3))\n",
    "x = inputs\n",
    "\n",
    "# Normalize\n",
    "scale_layer = keras.layers.Rescaling(scale=1 / 127.5, offset=-1)\n",
    "x = scale_layer(x)\n",
    "\n",
    "# The base model contains batchnorm layers. We want to keep them in inference mode when we unfreeze the base model for fine-tuning, so we make sure that the base_model is running in inference mode here.\n",
    "x = base_model(x, training=False)\n",
    "x = keras.layers.GlobalAveragePooling2D()(x)\n",
    "x = keras.layers.Dropout(0.5)(x)  # Regularize with dropout\n",
    "outputs = keras.layers.Dense(9, activation=\"softmax\")(x)\n",
    "model = keras.Model(inputs, outputs)"
   ]
  },
  {
   "cell_type": "code",
   "execution_count": null,
   "metadata": {
    "colab": {
     "base_uri": "https://localhost:8080/"
    },
    "id": "Ewgkq9KNLGeu",
    "outputId": "b16698ee-93e8-4a4d-c9d3-6d842a0a31b8",
    "executionInfo": {
     "status": "ok",
     "timestamp": 1639759470032,
     "user_tz": 0,
     "elapsed": 1632582,
     "user": {
      "displayName": "Guilherme Costa",
      "photoUrl": "https://lh3.googleusercontent.com/a/default-user=s64",
      "userId": "16574801687137273341"
     }
    }
   },
   "outputs": [
    {
     "output_type": "stream",
     "name": "stdout",
     "text": [
      "Epoch 1/150\n",
      "118/118 [==============================] - 37s 298ms/step - loss: 1.6783 - accuracy: 0.3943 - val_loss: 1.7617 - val_accuracy: 0.3600\n",
      "Epoch 2/150\n",
      "118/118 [==============================] - 30s 255ms/step - loss: 1.3351 - accuracy: 0.5276 - val_loss: 1.5404 - val_accuracy: 0.4289\n",
      "Epoch 3/150\n",
      "118/118 [==============================] - 30s 255ms/step - loss: 1.2172 - accuracy: 0.5621 - val_loss: 1.4820 - val_accuracy: 0.4467\n",
      "Epoch 4/150\n",
      "118/118 [==============================] - 30s 255ms/step - loss: 1.1394 - accuracy: 0.5985 - val_loss: 1.3701 - val_accuracy: 0.5044\n",
      "Epoch 5/150\n",
      "118/118 [==============================] - 30s 255ms/step - loss: 1.0855 - accuracy: 0.6123 - val_loss: 1.3680 - val_accuracy: 0.4867\n",
      "Epoch 6/150\n",
      "118/118 [==============================] - 30s 255ms/step - loss: 1.0583 - accuracy: 0.6168 - val_loss: 1.3218 - val_accuracy: 0.5133\n",
      "Epoch 7/150\n",
      "118/118 [==============================] - 30s 255ms/step - loss: 1.0236 - accuracy: 0.6373 - val_loss: 1.3231 - val_accuracy: 0.5133\n",
      "Epoch 8/150\n",
      "118/118 [==============================] - 30s 255ms/step - loss: 0.9877 - accuracy: 0.6503 - val_loss: 1.2417 - val_accuracy: 0.5489\n",
      "Epoch 9/150\n",
      "118/118 [==============================] - 30s 255ms/step - loss: 0.9666 - accuracy: 0.6556 - val_loss: 1.2438 - val_accuracy: 0.5489\n",
      "Epoch 10/150\n",
      "118/118 [==============================] - 30s 255ms/step - loss: 0.9570 - accuracy: 0.6479 - val_loss: 1.2440 - val_accuracy: 0.5400\n",
      "Epoch 11/150\n",
      "118/118 [==============================] - 30s 255ms/step - loss: 0.9336 - accuracy: 0.6591 - val_loss: 1.2697 - val_accuracy: 0.5422\n",
      "Epoch 12/150\n",
      "118/118 [==============================] - 30s 255ms/step - loss: 0.9200 - accuracy: 0.6678 - val_loss: 1.2168 - val_accuracy: 0.5578\n",
      "Epoch 13/150\n",
      "118/118 [==============================] - 30s 255ms/step - loss: 0.8979 - accuracy: 0.6787 - val_loss: 1.2161 - val_accuracy: 0.5622\n",
      "Epoch 14/150\n",
      "118/118 [==============================] - 30s 255ms/step - loss: 0.8902 - accuracy: 0.6766 - val_loss: 1.2174 - val_accuracy: 0.5644\n",
      "Epoch 15/150\n",
      "118/118 [==============================] - 30s 255ms/step - loss: 0.8876 - accuracy: 0.6795 - val_loss: 1.2338 - val_accuracy: 0.5667\n",
      "Epoch 16/150\n",
      "118/118 [==============================] - 30s 255ms/step - loss: 0.8728 - accuracy: 0.6819 - val_loss: 1.1873 - val_accuracy: 0.5644\n",
      "Epoch 17/150\n",
      "118/118 [==============================] - 30s 255ms/step - loss: 0.8667 - accuracy: 0.6869 - val_loss: 1.1890 - val_accuracy: 0.5533\n",
      "Epoch 18/150\n",
      "118/118 [==============================] - 30s 255ms/step - loss: 0.8370 - accuracy: 0.6930 - val_loss: 1.2347 - val_accuracy: 0.5533\n",
      "Epoch 19/150\n",
      "118/118 [==============================] - 30s 255ms/step - loss: 0.8461 - accuracy: 0.6917 - val_loss: 1.2079 - val_accuracy: 0.5711\n",
      "Epoch 20/150\n",
      "118/118 [==============================] - 30s 255ms/step - loss: 0.8428 - accuracy: 0.6928 - val_loss: 1.1762 - val_accuracy: 0.5711\n",
      "Epoch 21/150\n",
      "118/118 [==============================] - 30s 255ms/step - loss: 0.8353 - accuracy: 0.6893 - val_loss: 1.1999 - val_accuracy: 0.5844\n",
      "Epoch 22/150\n",
      "118/118 [==============================] - 30s 255ms/step - loss: 0.8228 - accuracy: 0.7037 - val_loss: 1.2237 - val_accuracy: 0.5622\n",
      "Epoch 23/150\n",
      "118/118 [==============================] - 30s 255ms/step - loss: 0.8287 - accuracy: 0.6922 - val_loss: 1.1720 - val_accuracy: 0.5667\n",
      "Epoch 24/150\n",
      "118/118 [==============================] - 30s 255ms/step - loss: 0.8251 - accuracy: 0.6992 - val_loss: 1.1719 - val_accuracy: 0.5689\n",
      "Epoch 25/150\n",
      "118/118 [==============================] - 30s 255ms/step - loss: 0.8212 - accuracy: 0.6968 - val_loss: 1.1602 - val_accuracy: 0.5778\n",
      "Epoch 26/150\n",
      "118/118 [==============================] - 30s 255ms/step - loss: 0.8000 - accuracy: 0.7066 - val_loss: 1.2052 - val_accuracy: 0.5667\n",
      "Epoch 27/150\n",
      "118/118 [==============================] - 30s 255ms/step - loss: 0.8002 - accuracy: 0.7095 - val_loss: 1.1384 - val_accuracy: 0.5711\n",
      "Epoch 28/150\n",
      "118/118 [==============================] - 30s 255ms/step - loss: 0.7994 - accuracy: 0.7079 - val_loss: 1.2154 - val_accuracy: 0.5667\n",
      "Epoch 29/150\n",
      "118/118 [==============================] - 30s 255ms/step - loss: 0.8085 - accuracy: 0.7039 - val_loss: 1.1614 - val_accuracy: 0.5756\n",
      "Epoch 30/150\n",
      "118/118 [==============================] - 30s 255ms/step - loss: 0.7977 - accuracy: 0.7039 - val_loss: 1.1728 - val_accuracy: 0.5822\n",
      "Epoch 31/150\n",
      "118/118 [==============================] - 30s 256ms/step - loss: 0.7962 - accuracy: 0.7047 - val_loss: 1.1832 - val_accuracy: 0.5844\n",
      "Epoch 32/150\n",
      "118/118 [==============================] - 30s 255ms/step - loss: 0.7920 - accuracy: 0.7114 - val_loss: 1.2027 - val_accuracy: 0.5778\n",
      "Epoch 33/150\n",
      "118/118 [==============================] - 30s 255ms/step - loss: 0.7818 - accuracy: 0.7092 - val_loss: 1.2111 - val_accuracy: 0.5711\n",
      "Epoch 34/150\n",
      "118/118 [==============================] - 30s 255ms/step - loss: 0.7709 - accuracy: 0.7185 - val_loss: 1.1969 - val_accuracy: 0.5844\n",
      "Epoch 35/150\n",
      "118/118 [==============================] - 30s 255ms/step - loss: 0.7754 - accuracy: 0.7116 - val_loss: 1.1999 - val_accuracy: 0.5689\n",
      "Epoch 36/150\n",
      "118/118 [==============================] - 30s 255ms/step - loss: 0.7822 - accuracy: 0.7013 - val_loss: 1.2333 - val_accuracy: 0.5644\n",
      "Epoch 37/150\n",
      "118/118 [==============================] - 30s 255ms/step - loss: 0.7683 - accuracy: 0.7103 - val_loss: 1.1995 - val_accuracy: 0.5867\n",
      "Epoch 38/150\n",
      "118/118 [==============================] - 30s 255ms/step - loss: 0.7815 - accuracy: 0.7029 - val_loss: 1.2352 - val_accuracy: 0.5689\n",
      "Epoch 39/150\n",
      "118/118 [==============================] - 30s 255ms/step - loss: 0.7761 - accuracy: 0.7053 - val_loss: 1.2013 - val_accuracy: 0.5778\n",
      "Epoch 40/150\n",
      "118/118 [==============================] - 30s 255ms/step - loss: 0.7613 - accuracy: 0.7066 - val_loss: 1.1829 - val_accuracy: 0.5800\n",
      "Epoch 41/150\n",
      "118/118 [==============================] - 30s 255ms/step - loss: 0.7802 - accuracy: 0.6986 - val_loss: 1.1700 - val_accuracy: 0.5911\n",
      "Epoch 42/150\n",
      "118/118 [==============================] - 30s 255ms/step - loss: 0.7578 - accuracy: 0.7100 - val_loss: 1.1541 - val_accuracy: 0.5978\n",
      "Epoch 43/150\n",
      "118/118 [==============================] - 30s 255ms/step - loss: 0.7557 - accuracy: 0.7119 - val_loss: 1.1811 - val_accuracy: 0.5889\n",
      "Epoch 44/150\n",
      "118/118 [==============================] - 30s 255ms/step - loss: 0.7424 - accuracy: 0.7191 - val_loss: 1.1772 - val_accuracy: 0.5844\n",
      "Epoch 45/150\n",
      "118/118 [==============================] - 30s 255ms/step - loss: 0.7487 - accuracy: 0.7249 - val_loss: 1.2004 - val_accuracy: 0.5756\n",
      "Epoch 46/150\n",
      "118/118 [==============================] - 30s 255ms/step - loss: 0.7562 - accuracy: 0.7241 - val_loss: 1.1587 - val_accuracy: 0.5800\n",
      "Epoch 47/150\n",
      "118/118 [==============================] - 30s 255ms/step - loss: 0.7491 - accuracy: 0.7124 - val_loss: 1.2097 - val_accuracy: 0.5844\n",
      "Epoch 48/150\n",
      "118/118 [==============================] - 30s 255ms/step - loss: 0.7430 - accuracy: 0.7116 - val_loss: 1.2020 - val_accuracy: 0.5889\n",
      "Epoch 49/150\n",
      "118/118 [==============================] - 30s 255ms/step - loss: 0.7425 - accuracy: 0.7191 - val_loss: 1.1953 - val_accuracy: 0.5889\n",
      "Epoch 50/150\n",
      "118/118 [==============================] - 30s 255ms/step - loss: 0.7453 - accuracy: 0.7114 - val_loss: 1.2177 - val_accuracy: 0.5711\n",
      "Epoch 51/150\n",
      "118/118 [==============================] - 30s 255ms/step - loss: 0.7463 - accuracy: 0.7185 - val_loss: 1.2262 - val_accuracy: 0.5756\n",
      "Epoch 52/150\n",
      "118/118 [==============================] - 30s 256ms/step - loss: 0.7434 - accuracy: 0.7103 - val_loss: 1.1938 - val_accuracy: 0.5822\n",
      "Epoch 53/150\n",
      "118/118 [==============================] - 30s 255ms/step - loss: 0.7461 - accuracy: 0.7124 - val_loss: 1.2005 - val_accuracy: 0.5711\n",
      "Epoch 54/150\n",
      "118/118 [==============================] - 30s 255ms/step - loss: 0.7437 - accuracy: 0.7278 - val_loss: 1.2297 - val_accuracy: 0.5733\n"
     ]
    }
   ],
   "source": [
    "model.compile(\n",
    "    optimizer=keras.optimizers.Adam(),\n",
    "    loss=keras.losses.SparseCategoricalCrossentropy(from_logits=False),\n",
    "    metrics=[\"accuracy\"],\n",
    ")\n",
    "\n",
    "# Train the model\n",
    "history = model.fit(\n",
    "    train_ds,\n",
    "    validation_data=val_ds,\n",
    "    epochs=150,\n",
    "    callbacks=[\n",
    "        keras.callbacks.EarlyStopping(monitor=\"loss\", min_delta=0.01, patience=10)\n",
    "    ],\n",
    ")"
   ]
  },
  {
   "cell_type": "code",
   "execution_count": null,
   "metadata": {
    "id": "ouWYaOoBzp4k",
    "colab": {
     "base_uri": "https://localhost:8080/"
    },
    "outputId": "01d6e5c3-b08e-4e35-f034-fc2b7a9a55fb",
    "executionInfo": {
     "status": "ok",
     "timestamp": 1639766008311,
     "user_tz": 0,
     "elapsed": 6538288,
     "user": {
      "displayName": "Guilherme Costa",
      "photoUrl": "https://lh3.googleusercontent.com/a/default-user=s64",
      "userId": "16574801687137273341"
     }
    }
   },
   "outputs": [
    {
     "output_type": "stream",
     "name": "stdout",
     "text": [
      "Epoch 1/100\n",
      "118/118 [==============================] - 160s 1s/step - loss: 0.6709 - accuracy: 0.7546 - val_loss: 1.1467 - val_accuracy: 0.6133\n",
      "Epoch 2/100\n",
      "118/118 [==============================] - 155s 1s/step - loss: 0.5379 - accuracy: 0.7990 - val_loss: 1.0975 - val_accuracy: 0.6356\n",
      "Epoch 3/100\n",
      "118/118 [==============================] - 155s 1s/step - loss: 0.4526 - accuracy: 0.8388 - val_loss: 1.1360 - val_accuracy: 0.6444\n",
      "Epoch 4/100\n",
      "118/118 [==============================] - 156s 1s/step - loss: 0.3528 - accuracy: 0.8725 - val_loss: 1.1509 - val_accuracy: 0.6556\n",
      "Epoch 5/100\n",
      "118/118 [==============================] - 156s 1s/step - loss: 0.3097 - accuracy: 0.8874 - val_loss: 1.1201 - val_accuracy: 0.6644\n",
      "Epoch 6/100\n",
      "118/118 [==============================] - 156s 1s/step - loss: 0.2550 - accuracy: 0.9100 - val_loss: 1.1447 - val_accuracy: 0.6689\n",
      "Epoch 7/100\n",
      "118/118 [==============================] - 156s 1s/step - loss: 0.2115 - accuracy: 0.9294 - val_loss: 1.1764 - val_accuracy: 0.6622\n",
      "Epoch 8/100\n",
      "118/118 [==============================] - 155s 1s/step - loss: 0.1618 - accuracy: 0.9493 - val_loss: 1.2408 - val_accuracy: 0.6644\n",
      "Epoch 9/100\n",
      "118/118 [==============================] - 155s 1s/step - loss: 0.1380 - accuracy: 0.9599 - val_loss: 1.2333 - val_accuracy: 0.6733\n",
      "Epoch 10/100\n",
      "118/118 [==============================] - 155s 1s/step - loss: 0.1217 - accuracy: 0.9596 - val_loss: 1.2183 - val_accuracy: 0.6756\n",
      "Epoch 11/100\n",
      "118/118 [==============================] - 156s 1s/step - loss: 0.1084 - accuracy: 0.9689 - val_loss: 1.2673 - val_accuracy: 0.6711\n",
      "Epoch 12/100\n",
      "118/118 [==============================] - 156s 1s/step - loss: 0.0766 - accuracy: 0.9782 - val_loss: 1.3440 - val_accuracy: 0.6733\n",
      "Epoch 13/100\n",
      "118/118 [==============================] - 156s 1s/step - loss: 0.0745 - accuracy: 0.9742 - val_loss: 1.3578 - val_accuracy: 0.6711\n",
      "Epoch 14/100\n",
      "118/118 [==============================] - 156s 1s/step - loss: 0.0683 - accuracy: 0.9790 - val_loss: 1.4254 - val_accuracy: 0.6733\n",
      "Epoch 15/100\n",
      "118/118 [==============================] - 156s 1s/step - loss: 0.0583 - accuracy: 0.9841 - val_loss: 1.3327 - val_accuracy: 0.6844\n",
      "Epoch 16/100\n",
      "118/118 [==============================] - 156s 1s/step - loss: 0.0418 - accuracy: 0.9896 - val_loss: 1.4589 - val_accuracy: 0.6733\n",
      "Epoch 17/100\n",
      "118/118 [==============================] - 155s 1s/step - loss: 0.0357 - accuracy: 0.9907 - val_loss: 1.3985 - val_accuracy: 0.6889\n",
      "Epoch 18/100\n",
      "118/118 [==============================] - 156s 1s/step - loss: 0.0307 - accuracy: 0.9910 - val_loss: 1.4994 - val_accuracy: 0.6844\n",
      "Epoch 19/100\n",
      "118/118 [==============================] - 156s 1s/step - loss: 0.0283 - accuracy: 0.9912 - val_loss: 1.6319 - val_accuracy: 0.6489\n",
      "Epoch 20/100\n",
      "118/118 [==============================] - 156s 1s/step - loss: 0.0283 - accuracy: 0.9928 - val_loss: 1.5244 - val_accuracy: 0.6844\n",
      "Epoch 21/100\n",
      "118/118 [==============================] - 156s 1s/step - loss: 0.0242 - accuracy: 0.9939 - val_loss: 1.5449 - val_accuracy: 0.6756\n",
      "Epoch 22/100\n",
      "118/118 [==============================] - 155s 1s/step - loss: 0.0230 - accuracy: 0.9950 - val_loss: 1.3647 - val_accuracy: 0.7133\n",
      "Epoch 23/100\n",
      "118/118 [==============================] - 155s 1s/step - loss: 0.0197 - accuracy: 0.9960 - val_loss: 1.5294 - val_accuracy: 0.6956\n",
      "Epoch 24/100\n",
      "118/118 [==============================] - 155s 1s/step - loss: 0.0174 - accuracy: 0.9955 - val_loss: 1.5851 - val_accuracy: 0.6733\n",
      "Epoch 25/100\n",
      "118/118 [==============================] - 156s 1s/step - loss: 0.0169 - accuracy: 0.9952 - val_loss: 1.5907 - val_accuracy: 0.6822\n",
      "Epoch 26/100\n",
      "118/118 [==============================] - 156s 1s/step - loss: 0.0202 - accuracy: 0.9936 - val_loss: 1.5772 - val_accuracy: 0.6844\n",
      "Epoch 27/100\n",
      "118/118 [==============================] - 156s 1s/step - loss: 0.0158 - accuracy: 0.9952 - val_loss: 1.5573 - val_accuracy: 0.6978\n",
      "Epoch 28/100\n",
      "118/118 [==============================] - 156s 1s/step - loss: 0.0175 - accuracy: 0.9960 - val_loss: 1.3865 - val_accuracy: 0.7067\n",
      "Epoch 29/100\n",
      "118/118 [==============================] - 155s 1s/step - loss: 0.0199 - accuracy: 0.9944 - val_loss: 1.5379 - val_accuracy: 0.7044\n",
      "Epoch 30/100\n",
      "118/118 [==============================] - 156s 1s/step - loss: 0.0134 - accuracy: 0.9965 - val_loss: 1.5036 - val_accuracy: 0.7156\n",
      "Epoch 31/100\n",
      "118/118 [==============================] - 156s 1s/step - loss: 0.0130 - accuracy: 0.9960 - val_loss: 1.6801 - val_accuracy: 0.7022\n",
      "Epoch 32/100\n",
      "118/118 [==============================] - 156s 1s/step - loss: 0.0096 - accuracy: 0.9981 - val_loss: 1.6296 - val_accuracy: 0.6956\n",
      "Epoch 33/100\n",
      "118/118 [==============================] - 156s 1s/step - loss: 0.0089 - accuracy: 0.9981 - val_loss: 1.7444 - val_accuracy: 0.6822\n",
      "Epoch 34/100\n",
      "118/118 [==============================] - 156s 1s/step - loss: 0.0102 - accuracy: 0.9965 - val_loss: 1.6523 - val_accuracy: 0.6889\n",
      "Epoch 35/100\n",
      "118/118 [==============================] - 155s 1s/step - loss: 0.0095 - accuracy: 0.9968 - val_loss: 1.6493 - val_accuracy: 0.6889\n",
      "Epoch 36/100\n",
      "118/118 [==============================] - 155s 1s/step - loss: 0.0088 - accuracy: 0.9976 - val_loss: 1.8045 - val_accuracy: 0.7000\n",
      "Epoch 37/100\n",
      "118/118 [==============================] - 156s 1s/step - loss: 0.0136 - accuracy: 0.9971 - val_loss: 1.6838 - val_accuracy: 0.6911\n",
      "Epoch 38/100\n",
      "118/118 [==============================] - 156s 1s/step - loss: 0.0107 - accuracy: 0.9968 - val_loss: 1.5774 - val_accuracy: 0.7067\n",
      "Epoch 39/100\n",
      "118/118 [==============================] - 156s 1s/step - loss: 0.0107 - accuracy: 0.9963 - val_loss: 1.6650 - val_accuracy: 0.7000\n",
      "Epoch 40/100\n",
      "118/118 [==============================] - 156s 1s/step - loss: 0.0079 - accuracy: 0.9981 - val_loss: 1.7676 - val_accuracy: 0.6933\n",
      "Epoch 41/100\n",
      "118/118 [==============================] - 155s 1s/step - loss: 0.0084 - accuracy: 0.9984 - val_loss: 1.6601 - val_accuracy: 0.7089\n",
      "Epoch 42/100\n",
      "118/118 [==============================] - 156s 1s/step - loss: 0.0055 - accuracy: 0.9984 - val_loss: 1.7352 - val_accuracy: 0.7089\n"
     ]
    }
   ],
   "source": [
    "# Unfreeze the base_model. Note that it keeps running in inference mode since we passed `training=False` when calling it. This means that the batchnorm layers will not update their batch statistics.\n",
    "# This prevents the batchnorm layers from undoing all the training we've done so far.\n",
    "base_model.trainable = True\n",
    "model.compile(\n",
    "    optimizer=keras.optimizers.Adam(1e-5),  # Low learning rate\n",
    "    loss=keras.losses.SparseCategoricalCrossentropy(from_logits=False),\n",
    "    metrics=[\"accuracy\"],\n",
    ")\n",
    "history = model.fit(\n",
    "    train_ds,\n",
    "    validation_data=val_ds,\n",
    "    epochs=100,\n",
    "    callbacks=[\n",
    "        keras.callbacks.EarlyStopping(monitor=\"loss\", min_delta=0.01, patience=10)\n",
    "    ],\n",
    ")"
   ]
  },
  {
   "cell_type": "code",
   "execution_count": null,
   "metadata": {
    "id": "Z8xD-0y-oc5O",
    "colab": {
     "base_uri": "https://localhost:8080/",
     "height": 1000
    },
    "executionInfo": {
     "status": "ok",
     "timestamp": 1639766012509,
     "user_tz": 0,
     "elapsed": 4210,
     "user": {
      "displayName": "Guilherme Costa",
      "photoUrl": "https://lh3.googleusercontent.com/a/default-user=s64",
      "userId": "16574801687137273341"
     }
    },
    "outputId": "3f118867-f1d4-42bb-d86d-e2556e5a96fd"
   },
   "outputs": [
    {
     "output_type": "execute_result",
     "data": {
      "text/plain": [
       "<sklearn.metrics._plot.confusion_matrix.ConfusionMatrixDisplay at 0x7f8529dfa550>"
      ]
     },
     "metadata": {},
     "execution_count": 28
    },
    {
     "output_type": "display_data",
     "data": {
      "image/png": "[encoded data removed]",
      "text/plain": [
       "<Figure size 2304x1872 with 2 Axes>"
      ]
     },
     "metadata": {
      "needs_background": "light"
     }
    }
   ],
   "source": [
    "# Confusion matrix\n",
    "pred_y = model.predict(val_ds)\n",
    "pred_y = np.argmax(pred_y, axis=1).tolist()\n",
    "true_y = []\n",
    "for id, data in val_ds.enumerate(start=0).as_numpy_iterator():\n",
    "    true_y = true_y + data[1].tolist()\n",
    "\n",
    "labels = os.listdir(\"drive/My Drive/CLASSIFY_BALANCED_VAL/TRAIN\")\n",
    "labels.sort()\n",
    "cm = confusion_matrix(true_y, pred_y)\n",
    "cm = np.apply_along_axis(lambda x: x / sum(x) * 100, 1, cm)\n",
    "cmp = ConfusionMatrixDisplay(cm, display_labels=labels)\n",
    "fig, ax = plt.subplots(figsize=(32, 26))\n",
    "cmp.plot(ax=ax)"
   ]
  },
  {
   "cell_type": "code",
   "source": [
    "model.save(\"drive/My Drive/Models/MULTICLASS\")"
   ],
   "metadata": {
    "id": "iNzEevEMY9rP",
    "colab": {
     "base_uri": "https://localhost:8080/"
    },
    "executionInfo": {
     "status": "ok",
     "timestamp": 1640879309925,
     "user_tz": 0,
     "elapsed": 11426,
     "user": {
      "displayName": "Guilherme Costa",
      "photoUrl": "https://lh3.googleusercontent.com/a/default-user=s64",
      "userId": "16574801687137273341"
     }
    },
    "outputId": "2740c112-e5f3-483b-b069-054052e3ead6"
   },
   "execution_count": null,
   "outputs": [
    {
     "output_type": "stream",
     "name": "stderr",
     "text": [
      "/usr/local/lib/python3.7/dist-packages/keras/engine/functional.py:1410: CustomMaskWarning: Custom mask layers require a config and must override get_config. When loading, the custom mask layer must be passed to the custom_objects argument.\n",
      "  layer_config = serialize_layer_fn(layer)\n"
     ]
    }
   ]
  }
 ],
 "metadata": {
  "accelerator": "GPU",
  "colab": {
   "collapsed_sections": [],
   "machine_shape": "hm",
   "name": "Multiclass Classification.ipynb",
   "provenance": [
    {
     "file_id": "1R1YC05RZ1Xj134TpdOiGigc316HDJzEL",
     "timestamp": 1639428664952
    },
    {
     "file_id": "14HYBCk64CtIDvJCh35jSm8ZIbpt2K-lh",
     "timestamp": 1639334838322
    },
    {
     "file_id": "1xWELXp_xmQZRxycc13nyf4taC687hlmM",
     "timestamp": 1639238203835
    },
    {
     "file_id": "1jRXgLO_6SYizAhLKr5curSGcZaM1y6qb",
     "timestamp": 1638528760133
    },
    {
     "file_id": "12CoutbdLzDeXXXCvVSfmvRhw5TEHRQHh",
     "timestamp": 1604402918800
    }
   ],
   "authorship_tag": "ABX9TyOQapIoKtuRIZAjLpkadBnv"
  },
  "kernelspec": {
   "display_name": "Python 3",
   "name": "python3"
  }
 },
 "nbformat": 4,
 "nbformat_minor": 0
}