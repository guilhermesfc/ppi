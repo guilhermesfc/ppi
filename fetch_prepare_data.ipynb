{
 "cells": [
  {
   "cell_type": "code",
   "execution_count": null,
   "metadata": {},
   "outputs": [],
   "source": [
    "import imagecrawler as ic\n",
    "import mediummapper as mm\n",
    "import imagedownload as id\n",
    "import moveimages as mv\n",
    "import yaml"
   ]
  },
  {
   "cell_type": "markdown",
   "metadata": {},
   "source": [
    "## Download images metadata\n",
    "\n",
    "You use the crawler with a URL for retrieving metada of all images contained in page. Metada is stored in SQLite DB\n",
    "\n",
    "Crawlers are supported for:\n",
    "- [Getty Search Gateway](https://search.getty.edu/gateway/landing)\n",
    "- [Cornell University Digital Library](https://digital.library.cornell.edu/)\n",
    "- [Libary of Congress](https://www.loc.gov/)\n",
    "- [Eastman Museum](https://collections.eastman.org/collections)"
   ]
  },
  {
   "cell_type": "code",
   "execution_count": null,
   "metadata": {},
   "outputs": [],
   "source": [
    "#Download metadata from Getty\n",
    "getty_crawler = ic.GettyCrawler()\n",
    "getty_crawler.saves_pages_img_data(\"https://search.getty.edu/gateway/search?q=&cat=type&types=%22Photographs%22&rows=50&srt=a&dir=s&dsp=0&img=0&pg=\",1,10)\n",
    "\n",
    "#Download metadata from Cornell\n",
    "cornell_crawler = ic.CornellCrawler()\n",
    "cornell_crawler.saves_pages_img_data(\"https://digital.library.cornell.edu/?f[type_tesim][]=cyanotypes&page=\",1,5)\n",
    "\n",
    "#Download metadata from Library of Congress\n",
    "congress_crawler = ic.CongressCrawler()\n",
    "congress_crawler.saves_pages_img_data(\"https://www.loc.gov/pictures/search/?va=exact&q=Cyanotypes.&fa=displayed%3Aanywhere&fi=format&sg=true&op=EQUAL&sp=\",1,5)\n",
    "\n",
    "#Download metadata from Eastman\n",
    "eastman_crawler = ic.EastmanCrawler()\n",
    "eastman_crawler.saves_pages_img_data(\"https://collections.eastman.org/collections/20331/photography/objects/list?filter=date%3A1602%2C1990&page=\",1,10)\n"
   ]
  },
  {
   "cell_type": "markdown",
   "metadata": {},
   "source": [
    "## Standardize Photographic Processes descriptions\n",
    "\n",
    "There is code in ``mediummaper.py`` to map the source descriptions to the predefined descriptions in ``config.yaml`` "
   ]
  },
  {
   "cell_type": "code",
   "execution_count": null,
   "metadata": {},
   "outputs": [],
   "source": [
    "mapper = mm.MediumMapper()"
   ]
  },
  {
   "cell_type": "markdown",
   "metadata": {},
   "source": [
    "Run cell below. If results are ok, move to next cell. Otherwise, adjust ```propose_mapping``` method in ```mediummapper.py``` and repeat previous cell"
   ]
  },
  {
   "cell_type": "code",
   "execution_count": null,
   "metadata": {},
   "outputs": [],
   "source": [
    "mapper.show_undefined()"
   ]
  },
  {
   "cell_type": "code",
   "execution_count": null,
   "metadata": {},
   "outputs": [],
   "source": [
    "mapper.update_mediums() #Updates mediums in DB"
   ]
  },
  {
   "cell_type": "markdown",
   "metadata": {},
   "source": [
    "## Download images to disk"
   ]
  },
  {
   "cell_type": "code",
   "execution_count": null,
   "metadata": {},
   "outputs": [],
   "source": [
    "with open(\"ppi/config.yaml\", \"r\") as yamlfile:\n",
    "            config = yaml.load(yamlfile, Loader=yaml.FullLoader)\n",
    "for medium in config['allowed_processes']:\n",
    "    print(medium)\n",
    "    id.download_imgs(max=10,medium = medium)"
   ]
  },
  {
   "cell_type": "markdown",
   "metadata": {},
   "source": [
    "## Prepare images for Deep Learning\n",
    "\n",
    "Images must be MANUALLY cropped, as exemplified below (we only want to keep \"relevant\" information):\n",
    "\n",
    "<img src = \"ppi/images/GettyCrawler_49753.jpg\" width=\"180\" height=\"180\">\n",
    "<img src = \"ppi/images/GettyCrawler_49753_crop.jpg\" width=\"180\" height=\"180\">\n"
   ]
  },
  {
   "cell_type": "markdown",
   "metadata": {},
   "source": [
    "## Move images into respective Process folder\n",
    "This will help building the model with Keras"
   ]
  },
  {
   "cell_type": "code",
   "execution_count": 24,
   "metadata": {},
   "outputs": [
    {
     "name": "stdout",
     "output_type": "stream",
     "text": [
      "\n",
      " No more images. \n",
      " Current status:\n",
      "{'ALBUMEN_PRINT': 1114, 'AMBROTYPE_TINTYPE_FERROTYPE': 257, 'CARBON_PRINT': 242, 'CYANOTYPE': 195, 'DAGUERREOTYPE': 483, 'DOP': 518, 'POP': 176, 'PLATINOTYPE_PALLADIOTYPE': 400, 'SALTED_PAPER_PRINT': 936}\n"
     ]
    }
   ],
   "source": [
    "mv.move_images(balanced = False)"
   ]
  }
 ],
 "metadata": {
  "interpreter": {
   "hash": "443555451089c934f8af11b20a891a7298bfb9795a8b0a748ec7e65dc6a0f51c"
  },
  "kernelspec": {
   "display_name": "Python 3.9.1 64-bit",
   "language": "python",
   "name": "python3"
  },
  "language_info": {
   "codemirror_mode": {
    "name": "ipython",
    "version": 3
   },
   "file_extension": ".py",
   "mimetype": "text/x-python",
   "name": "python",
   "nbconvert_exporter": "python",
   "pygments_lexer": "ipython3",
   "version": "3.9.7"
  },
  "orig_nbformat": 4
 },
 "nbformat": 4,
 "nbformat_minor": 2
}
